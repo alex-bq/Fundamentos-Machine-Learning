{
  "cells": [
    {
      "cell_type": "markdown",
      "metadata": {
        "id": "12fo6LDZuuCu"
      },
      "source": [
        "<img src='https://upload.wikimedia.org/wikipedia/commons/thumb/a/aa/Logo_DuocUC.svg/2560px-Logo_DuocUC.svg.png' width=50%, height=20%>"
      ]
    },
    {
      "cell_type": "markdown",
      "metadata": {
        "id": "H0C7K8luVsBv"
      },
      "source": [
        "# INTRODUCCION\n",
        "\n",
        "Para este ejemplo, usaremos un grupo de datos de estudiantes ya graduados y trataremos de probar si su grado afecta su salario.\n",
        "\n",
        "Sea μ el salario medio anual de los graduados.\n",
        "\n",
        "Supongamos que tenemos 6 categorías de materias de estudio:= Matemáticas y Estadística, Economía y Finanzas, Ciencias Ambientales, Ciencias Políticas, Ciencias Sociales y Biología.\n",
        "\n",
        "Por lo tanto, hay 6 niveles o grupos de este único factor que afecta la media del salario anual de los graduados.\n",
        "\n",
        "La idea básica detrás de un ANOVA  es tomar muestras aleatorias independientes de cada grupo y luego calcular las medias de muestra para cada grupo. Después de eso, comparar la variación de las medias muestrales entre los grupos con la variación dentro de los grupos. Finalmente, tomar una decisión basada en una prueba estadística, ya sea que las medias de los grupos sean todas iguales o no."
      ]
    },
    {
      "cell_type": "code",
      "execution_count": 4,
      "metadata": {
        "id": "k4rWRxPbRuk2"
      },
      "outputs": [
        {
          "data": {
            "text/html": [
              "<div>\n",
              "<style scoped>\n",
              "    .dataframe tbody tr th:only-of-type {\n",
              "        vertical-align: middle;\n",
              "    }\n",
              "\n",
              "    .dataframe tbody tr th {\n",
              "        vertical-align: top;\n",
              "    }\n",
              "\n",
              "    .dataframe thead th {\n",
              "        text-align: right;\n",
              "    }\n",
              "</style>\n",
              "<table border=\"1\" class=\"dataframe\">\n",
              "  <thead>\n",
              "    <tr style=\"text-align: right;\">\n",
              "      <th></th>\n",
              "      <th>major</th>\n",
              "      <th>salary</th>\n",
              "    </tr>\n",
              "  </thead>\n",
              "  <tbody>\n",
              "    <tr>\n",
              "      <th>0</th>\n",
              "      <td>Biology</td>\n",
              "      <td>87</td>\n",
              "    </tr>\n",
              "    <tr>\n",
              "      <th>1</th>\n",
              "      <td>Economics and Finance</td>\n",
              "      <td>94</td>\n",
              "    </tr>\n",
              "    <tr>\n",
              "      <th>2</th>\n",
              "      <td>Environmental Sciences</td>\n",
              "      <td>97</td>\n",
              "    </tr>\n",
              "    <tr>\n",
              "      <th>3</th>\n",
              "      <td>Mathematics and Statistics</td>\n",
              "      <td>75</td>\n",
              "    </tr>\n",
              "    <tr>\n",
              "      <th>4</th>\n",
              "      <td>Political Science</td>\n",
              "      <td>84</td>\n",
              "    </tr>\n",
              "    <tr>\n",
              "      <th>5</th>\n",
              "      <td>Social Sciences</td>\n",
              "      <td>63</td>\n",
              "    </tr>\n",
              "  </tbody>\n",
              "</table>\n",
              "</div>"
            ],
            "text/plain": [
              "                        major  salary\n",
              "0                     Biology      87\n",
              "1       Economics and Finance      94\n",
              "2      Environmental Sciences      97\n",
              "3  Mathematics and Statistics      75\n",
              "4           Political Science      84\n",
              "5             Social Sciences      63"
            ]
          },
          "execution_count": 4,
          "metadata": {},
          "output_type": "execute_result"
        }
      ],
      "source": [
        "import pandas as pd\n",
        "import random\n",
        "\n",
        "path = \"csv/Students.csv\" \n",
        "student_df = pd.read_csv(path, sep=\",\")\n",
        "\n",
        "# filtrar los estudiantes graduados\n",
        "graduated_student_df = student_df[student_df['graduated'] == 1]\n",
        "\n",
        "# muestra random de 500 estudiantes\n",
        "unique_student_id = list(graduated_student_df['stud.id'].unique())\n",
        "random.seed(30) # establecemos una semilla para extraer siempre la misma muestra\n",
        "sample_student_id = random.sample(unique_student_id, 500)\n",
        "sample_df = graduated_student_df[graduated_student_df['stud.id'].isin(sample_student_id)].reset_index(drop=True)\n",
        "\n",
        "# dos variables de interes\n",
        "sample_df = sample_df[['major', 'salary']]\n",
        "groups = sample_df.groupby('major').count().reset_index()\n",
        "#\n",
        "groups"
      ]
    },
    {
      "cell_type": "markdown",
      "metadata": {
        "id": "ABkgdUhTWqnw"
      },
      "source": [
        "# Planteamiento de Hipótesis\n",
        "\n",
        "Recordemos el planteamiento de la hipótesis:\n",
        "\n",
        "\n",
        "H₀: μ₁= μ₂ = μ₃ = … = μ𝒸\n",
        "\n",
        "\n",
        "H₁: No todos los μᵢ son iguales, donde i = 1, 2, 3, …\n",
        "\n",
        "Grados de libertad (ya calculados) = α = 0.05\n",
        "\n",
        "Regla de decisión: se rechaza H₀, cuando F > Fα"
      ]
    },
    {
      "cell_type": "code",
      "execution_count": 5,
      "metadata": {
        "id": "mKbE-hxFTYjZ"
      },
      "outputs": [
        {
          "ename": "ModuleNotFoundError",
          "evalue": "No module named 'scipy'",
          "output_type": "error",
          "traceback": [
            "\u001b[0;31m---------------------------------------------------------------------------\u001b[0m",
            "\u001b[0;31mModuleNotFoundError\u001b[0m                       Traceback (most recent call last)",
            "Cell \u001b[0;32mIn[5], line 3\u001b[0m\n\u001b[1;32m      1\u001b[0m \u001b[38;5;28;01mimport\u001b[39;00m \u001b[38;5;21;01mnumpy\u001b[39;00m \u001b[38;5;28;01mas\u001b[39;00m \u001b[38;5;21;01mnp\u001b[39;00m \n\u001b[1;32m      2\u001b[0m \u001b[38;5;66;03m# Scipy tiene un paquete o módulo scipy.stats que contiene una gran cantidad de funciones estadísticas.\u001b[39;00m\n\u001b[0;32m----> 3\u001b[0m \u001b[38;5;28;01mimport\u001b[39;00m \u001b[38;5;21;01mscipy\u001b[39;00m\u001b[38;5;21;01m.\u001b[39;00m\u001b[38;5;21;01mstats\u001b[39;00m \u001b[38;5;28;01mas\u001b[39;00m \u001b[38;5;21;01mstats\u001b[39;00m\n\u001b[1;32m      4\u001b[0m \u001b[38;5;28;01mimport\u001b[39;00m \u001b[38;5;21;01mmatplotlib\u001b[39;00m\u001b[38;5;21;01m.\u001b[39;00m\u001b[38;5;21;01mpyplot\u001b[39;00m \u001b[38;5;28;01mas\u001b[39;00m \u001b[38;5;21;01mplt\u001b[39;00m\n",
            "\u001b[0;31mModuleNotFoundError\u001b[0m: No module named 'scipy'"
          ]
        }
      ],
      "source": [
        "import numpy as np \n",
        "# Scipy tiene un paquete o módulo scipy.stats que contiene una gran cantidad de funciones estadísticas.\n",
        "import scipy.stats as stats\n",
        "import matplotlib.pyplot as plt\n"
      ]
    },
    {
      "cell_type": "code",
      "execution_count": null,
      "metadata": {
        "id": "YjBE9ol2TMTE"
      },
      "outputs": [],
      "source": [
        "# Crea la tabla principal de ANOVA\n",
        "data = [['Between Groups', '', '', '', '', '', ''], ['Within Groups', '', '', '', '', '', ''], ['Total', '', '', '', '', '', '']] \n",
        "anova_table = pd.DataFrame(data, columns = ['Source of Variation', 'SS', 'df', 'MS', 'F', 'P-value', 'F crit']) \n",
        "anova_table.set_index('Source of Variation', inplace = True)\n",
        "\n",
        "# calcula ENTRE los grupos\n",
        "x_bar = sample_df['salary'].mean()\n",
        "SSTR = sample_df.groupby('major').count() * (sample_df.groupby('major').mean() - x_bar)**2\n",
        "anova_table['SS']['Between Groups'] = SSTR['salary'].sum()\n",
        "\n",
        "# calcula EN los grupos\n",
        "SSE = (sample_df.groupby('major').count() - 1) * sample_df.groupby('major').std()**2\n",
        "anova_table['SS']['Within Groups'] = SSE['salary'].sum()\n",
        "\n",
        "# calcula el total\n",
        "SSTR = SSTR['salary'].sum() + SSE['salary'].sum()\n",
        "anova_table['SS']['Total'] = SSTR\n",
        "\n",
        "# Actualiza los grados de libertad\n",
        "anova_table['df']['Between Groups'] = sample_df['major'].nunique() - 1\n",
        "anova_table['df']['Within Groups'] = sample_df.shape[0] - sample_df['major'].nunique()\n",
        "anova_table['df']['Total'] = sample_df.shape[0] - 1\n",
        "\n",
        "# calcula la media de los cuadrados\n",
        "anova_table['MS'] = anova_table['SS'] / anova_table['df']\n",
        "\n",
        "# calcula F \n",
        "F = anova_table['MS']['Between Groups'] / anova_table['MS']['Within Groups']\n",
        "anova_table['F']['Between Groups'] = F\n",
        "\n",
        "# p-value\n",
        "anova_table['P-value']['Between Groups'] = 1 - stats.f.cdf(F, anova_table['df']['Between Groups'], anova_table['df']['Within Groups'])\n",
        "\n",
        "# F critico \n",
        "alpha = 0.05\n",
        "# \n",
        "tail_hypothesis_type = \"two-tailed\"\n",
        "if tail_hypothesis_type == \"two-tailed\":\n",
        "    alpha /= 2\n",
        "anova_table['F crit']['Between Groups'] = stats.f.ppf(1-alpha, anova_table['df']['Between Groups'], anova_table['df']['Within Groups'])\n",
        "\n",
        "# Mostrar tabla ANOVA\n",
        "anova_table"
      ]
    },
    {
      "cell_type": "code",
      "execution_count": null,
      "metadata": {
        "id": "gUZGSAIJTkdO"
      },
      "outputs": [],
      "source": [
        "    \n",
        "# Resultado final\n",
        "print(\"\\n--------------------------------------------------------------------------------------\")\n",
        "print(\"El enfoque del valor crítico para la prueba de hipótesis en la regla de decisión\")\n",
        "conclusion = \"No se pudo rechazar la hipótesis nula.\"\n",
        "if anova_table['F']['Between Groups'] > anova_table['F crit']['Between Groups']:\n",
        "    conclusion = \"Se rechaza la hipótesis nula.\"\n",
        "print(\"F-score es:\", anova_table['F']['Between Groups'], \" y valor critico es:\", anova_table['F crit']['Between Groups'])\n",
        "print(conclusion)"
      ]
    },
    {
      "cell_type": "markdown",
      "metadata": {
        "id": "eScr7mTgZ6aH"
      },
      "source": [
        "# Conclusión: \n",
        "Hay suficiente evidencia de que no todos los salarios promedio son iguales para los egresados de las diferentes materias de estudio, con un 5% de nivel de significancia."
      ]
    },
    {
      "cell_type": "markdown",
      "metadata": {
        "id": "w6KuvLI8y9x1"
      },
      "source": [
        "EJERCICIO : INTENTA PROBAR CON DIFERENTES GRADOS DE LIBERTAD (según el valor encontrado de F) Y VE QUE PASA CON LA HIPOTESIS....\n"
      ]
    }
  ],
  "metadata": {
    "colab": {
      "provenance": []
    },
    "kernelspec": {
      "display_name": "Python 3",
      "name": "python3"
    },
    "language_info": {
      "codemirror_mode": {
        "name": "ipython",
        "version": 3
      },
      "file_extension": ".py",
      "mimetype": "text/x-python",
      "name": "python",
      "nbconvert_exporter": "python",
      "pygments_lexer": "ipython3",
      "version": "3.11.3"
    }
  },
  "nbformat": 4,
  "nbformat_minor": 0
}
